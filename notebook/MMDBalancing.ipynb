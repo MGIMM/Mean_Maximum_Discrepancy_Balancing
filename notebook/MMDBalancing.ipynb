{
 "cells": [
  {
   "cell_type": "code",
   "execution_count": 1,
   "id": "ed269652-c50b-4e0e-b51d-8cfd242e9b43",
   "metadata": {},
   "outputs": [],
   "source": [
    "import torch\n",
    "import numpy as np\n",
    "import matplotlib.pyplot as plt\n",
    "from MMDBalancing import MMDBalancing as MMDB\n",
    "%matplotlib inline"
   ]
  },
  {
   "cell_type": "markdown",
   "id": "a0abb777-90b1-4704-be54-8459492fc076",
   "metadata": {},
   "source": [
    "## Build synthetic data set"
   ]
  },
  {
   "cell_type": "code",
   "execution_count": 2,
   "id": "cd7e164a-811f-4e0c-8dd3-64eb39ee423e",
   "metadata": {},
   "outputs": [],
   "source": [
    "n = 500\n",
    "m = 480\n",
    "xi = torch.normal(mean = -1, std = 3, size = (n,1))\n",
    "xi_ring = torch.zeros(size = (m,1))\n",
    "for i in range(m):\n",
    "    if torch.rand(1).item()>0.3:\n",
    "        xi_ring[i,0] = torch.normal(mean = -4, std = 2, size = (1,)).item()\n",
    "    else:\n",
    "        xi_ring[i,0] = torch.normal(mean = 3, std = 0.2, size = (1,)).item()"
   ]
  },
  {
   "cell_type": "markdown",
   "id": "70ffa693-38cd-42c8-ae7f-92476425e7f7",
   "metadata": {},
   "source": [
    "## Build MMDBalancing class"
   ]
  },
  {
   "cell_type": "code",
   "execution_count": 3,
   "id": "1b39bdb5-8fa5-4bc5-9c54-c6e2bf74b5d1",
   "metadata": {},
   "outputs": [],
   "source": [
    "MMDB = MMDB()\n",
    "eta_ring = torch.rand((len(xi),),requires_grad=True)"
   ]
  },
  {
   "cell_type": "markdown",
   "id": "59563d8d-2158-4546-b5e3-767cd6cbca01",
   "metadata": {},
   "source": [
    "## Gradient Descent (with ADAM)"
   ]
  },
  {
   "cell_type": "code",
   "execution_count": 4,
   "id": "d3463f34-7d3d-4f45-9d28-803b13637b83",
   "metadata": {},
   "outputs": [
    {
     "name": "stdout",
     "output_type": "stream",
     "text": [
      "Calculating kernel matrices...\n",
      "Kernel matrices constructed!\n",
      "Done!\n"
     ]
    }
   ],
   "source": [
    "epochs = 10000\n",
    "loss_trace = []\n",
    "for i in range(epochs):\n",
    "    loss_trace.append(MMDB.GD(xi,xi_ring,eta_ring,learning_rate = 0.001).item())\n",
    "    #eta_ring = torch.abs(eta_ring)\n",
    "print(\"Done!\")"
   ]
  },
  {
   "cell_type": "code",
   "execution_count": 5,
   "id": "f6e9e43e-a026-4202-b577-e579f0fcf848",
   "metadata": {},
   "outputs": [
    {
     "data": {
      "text/plain": [
       "[<matplotlib.lines.Line2D at 0x19b0984c190>]"
      ]
     },
     "execution_count": 5,
     "metadata": {},
     "output_type": "execute_result"
    },
    {
     "data": {
      "image/png": "[encoded data removed]",
      "text/plain": [
       "<Figure size 432x288 with 1 Axes>"
      ]
     },
     "metadata": {
      "needs_background": "light"
     },
     "output_type": "display_data"
    }
   ],
   "source": [
    "plt.plot(np.array(loss_trace))"
   ]
  },
  {
   "cell_type": "markdown",
   "id": "a2b31a9e-b22c-483d-877b-9b7034ef0b4e",
   "metadata": {},
   "source": [
    "## Viz"
   ]
  },
  {
   "cell_type": "code",
   "execution_count": 6,
   "id": "6adaf97c-df84-4ee2-9236-cbbed94aad14",
   "metadata": {},
   "outputs": [
    {
     "data": {
      "text/plain": [
       "<matplotlib.legend.Legend at 0x19b099370a0>"
      ]
     },
     "execution_count": 6,
     "metadata": {},
     "output_type": "execute_result"
    },
    {
     "data": {
      "image/png": "[encoded data removed]",
      "text/plain": [
       "<Figure size 720x504 with 1 Axes>"
      ]
     },
     "metadata": {
      "needs_background": "light"
     },
     "output_type": "display_data"
    }
   ],
   "source": [
    "plt.figure(figsize = (10,7))\n",
    "plt.hist(xi[:,0].to(\"cpu\").detach().numpy(), alpha = 0.5, bins = 20, label =\"source\", density = True)\n",
    "plt.hist(xi[:,0].to(\"cpu\").detach().numpy(),weights = eta_ring.detach().numpy() , alpha = 0.5, bins = 20, label =\"reweighted-source\", density = True)\n",
    "plt.hist(xi_ring[:,0].to(\"cpu\").detach().numpy(), alpha = 0.5, bins = 20, label =\"target\", density = True)\n",
    "plt.legend()"
   ]
  },
  {
   "cell_type": "code",
   "execution_count": 7,
   "id": "d2662bb6-56e3-406c-baaf-2c4b7c579f55",
   "metadata": {},
   "outputs": [
    {
     "data": {
      "text/plain": [
       "tensor(0.9958, grad_fn=<MeanBackward0>)"
      ]
     },
     "execution_count": 7,
     "metadata": {},
     "output_type": "execute_result"
    }
   ],
   "source": [
    "eta_ring.mean()"
   ]
  },
  {
   "cell_type": "code",
   "execution_count": null,
   "id": "8a65d5b2-94a5-418a-951d-f9166eca6fc2",
   "metadata": {},
   "outputs": [],
   "source": []
  }
 ],
 "metadata": {
  "kernelspec": {
   "display_name": "Python 3",
   "language": "python",
   "name": "python3"
  },
  "language_info": {
   "codemirror_mode": {
    "name": "ipython",
    "version": 3
   },
   "file_extension": ".py",
   "mimetype": "text/x-python",
   "name": "python",
   "nbconvert_exporter": "python",
   "pygments_lexer": "ipython3",
   "version": "3.8.8"
  }
 },
 "nbformat": 4,
 "nbformat_minor": 5
}
